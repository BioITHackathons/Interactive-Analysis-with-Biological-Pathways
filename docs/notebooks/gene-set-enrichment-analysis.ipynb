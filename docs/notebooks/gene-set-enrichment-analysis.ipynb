{
 "cells": [
  {
   "cell_type": "code",
   "execution_count": null,
   "id": "04532e9b-f6fb-4b59-b162-19fce058748a",
   "metadata": {},
   "outputs": [],
   "source": [
    "# install libraries if you haven't\n",
    "# !pip install scanpy\n",
    "# !pip install pywikipathways\n",
    "# !pip install gseapy\n",
    "\n",
    "import scanpy as sc\n",
    "import pywikipathways as pwpw\n",
    "import gseapy as gp\n",
    "import pandas as pd\n",
    "import requests\n",
    "import urllib\n",
    "from IPython.display import display, HTML"
   ]
  },
  {
   "cell_type": "code",
   "execution_count": null,
   "id": "117ecbe5-596d-4274-8941-1e67518317bb",
   "metadata": {},
   "outputs": [],
   "source": [
    "# Dataset example #1 - SLE-related genes (Lupus) - just hardcoded for now\n",
    "#################################\n",
    "# gene_list = [ \"IFI44L\", \"CCL2\", \"MMP9\", \"RSAD2\", \"STAT1\", \"IRF7\", \"OAS1\", \"MX1\", \"CD3D\", \"IL2RB\", \"GZMK\", \"PRF1\", \"NKG7\"]\n",
    "# gene_values_dict = None\n",
    "\n",
    "# print(\"Gene List: \", gene_list)\n",
    "# print(\"Gene Values Dict: \", gene_values_dict)"
   ]
  },
  {
   "cell_type": "code",
   "execution_count": null,
   "id": "88246b55-021b-4a60-a2f4-72a168cdb4e0",
   "metadata": {},
   "outputs": [],
   "source": [
    "# Dataset example #2 - RPE cell TF genes + their associated scores (-log10(p-value)), pulled from another notebook\n",
    "#################################\n",
    "gene_list = [\"IRX1\", \"OTX2\", \"TBX15\"]\n",
    "gene_values_dict = {\"IRX1\": .000367, \"OTX2\": .000367, \"TBX15\": .000367}\n",
    "\n",
    "print(\"Gene List: \", gene_list)\n",
    "print(\"Gene Values Dict: \", gene_values_dict)"
   ]
  },
  {
   "cell_type": "code",
   "execution_count": null,
   "id": "c2d40889-64c4-4b69-a758-bfee0e109f7d",
   "metadata": {},
   "outputs": [],
   "source": [
    "# Dataset example #3 - sc-rnaseq data from a cellxgene study on eye tissue, processed via nsforest\n",
    "#################################\n",
    "# # get nsforest eye data from google cloud bucket\n",
    "# !gcloud storage cp gs://fc-331a3eab-697c-4910-85fe-5528e6c8d3e1/uploads/nsforest-eye-data/li_eye_2023_author_cell_type_nsforest.tsv .\n",
    "#################################\n",
    "# # load nsforest eye data into a dataframe\n",
    "# eye_nsforest_df = pd.read_csv(\"li_eye_2023_author_cell_type_nsforest.tsv\", sep='\\t')\n",
    "# eye_nsforest_df.sort_values(by=\"f_score\", ascending=False, inplace=True)\n",
    "\n",
    "# # show eye data in dataframe\n",
    "# eye_nsforest_df[:50]\n",
    "\n",
    "# # for now we're just looking at the genes for cell clusters of interest (pulled from results of running nsforest on scRNA-seq data generated from eye tissue)\n",
    "# # filter nsforest results dataframe for cell types of interest and get binary genes\n",
    "# target_cell_list = [\"RPE\", \"Rod\", \"Cone3\", \"Cone1\", \"Cone2\"]\n",
    "# genes_list_arr = eye_nsforest_df[eye_nsforest_df[\"clusterName\"].isin(target_cell_list)][\"binary_genes\"].to_list()\n",
    "\n",
    "# # do some formatting to convert strings to a single list\n",
    "# gene_list = \"\".join(genes_list_arr).replace(\"]\", \",\").replace(\"[\", \" \").replace(\"'\", \"\")[1:-1].split(\", \")\n",
    "# gene_values_dict = None\n",
    "\n",
    "# print(\"Gene List: \", gene_list)\n",
    "# print(\"Gene Values Dict: \", gene_values_dict)"
   ]
  },
  {
   "cell_type": "code",
   "execution_count": null,
   "id": "5c6a1972-fd21-44cb-9d0b-428d385a662c",
   "metadata": {},
   "outputs": [],
   "source": [
    "# input enrichr gene_set parameter for gseapy enrichr tool\n",
    "enrichr_gene_set = \"WikiPathways_2024_Human\"\n",
    "\n",
    "# perform GSEA using the gseapy library\n",
    "enr_res = gp.enrichr(gene_list=gene_list, gene_sets=enrichr_gene_set, organism='human')\n",
    "\n",
    "# show results of running gseapy.enrichr tool\n",
    "results_df = pd.DataFrame(enr_res.results)\n",
    "results_df"
   ]
  },
  {
   "cell_type": "code",
   "execution_count": null,
   "id": "19150abc-f069-49a7-b1f2-64acc51549f2",
   "metadata": {},
   "outputs": [],
   "source": [
    "# assemble URL output for visualization tool\n",
    "# function to generate urls\n",
    "def generate_url(base_url, pathway, genes, gene_values_dict=None,):\n",
    "    # currently, the wikipathways id is the last element in the value stored in the \"Term\" column that's being passed in as the pathway\n",
    "    pathway = pathway.split()[-1]\n",
    "    \n",
    "    # genes is currently being passed in a semi-colon delimited string\n",
    "    # if a list of gene values is passed in we need to include this in the url along with the gene\n",
    "    if gene_values_dict:\n",
    "        genes_split_list = genes.split(\";\")\n",
    "        gene_values = [gene_values_dict.get(gene) for gene in genes_split_list]\n",
    "        serialized_genes = \";\".join([f\"{gene},{value}\" for gene, value in zip(genes_split_list, gene_values)])\n",
    "        # make the serialized_genes url safe so semi-colon values aren't converted to \"\"%3B\"\n",
    "        serialized_genes = urllib.parse.quote(serialized_genes, safe=\";,\")\n",
    "    else:\n",
    "        # make the serialized_genes url safe so semi-colon values aren't converted to \"\"%3B\"\n",
    "        serialized_genes = urllib.parse.quote(genes, safe=\";\")\n",
    "    \n",
    "    # manually construct URL parameters to prevent encoding\n",
    "    params_str = f\"pathway={pathway}&genes={serialized_genes}\"\n",
    "    \n",
    "    # Create a request object\n",
    "    request = requests.Request('GET', f\"{base_url}?{params_str}\")\n",
    "\n",
    "    # Prepare the request to get the full URL\n",
    "    prepared_request = request.prepare()\n",
    "\n",
    "    return prepared_request.url\n",
    "\n",
    "# add new columns to results dataframe by applying generate_url to results_df\n",
    "base_url = \"https://bioithackathons.github.io/Interactive-Analysis-with-Biological-Pathways/\"\n",
    "results_df['WPID'] = results_df.apply(lambda row: row[\"Term\"].split()[-1], axis=1)\n",
    "if gene_values_dict:\n",
    "    results_df['url'] = results_df.apply(lambda row: generate_url(base_url, row['Term'], row['Genes'], gene_values_dict=gene_values_dict), axis=1)\n",
    "else:\n",
    "    results_df['url'] = results_df.apply(lambda row: generate_url(base_url, row['Term'], row['Genes']), axis=1)\n",
    "\n",
    "# show results_df: make URL's clickable, make sure URL's aren't truncated, restrict df to two columns\n",
    "def make_clickable(val):\n",
    "    # target _blank to open new window\n",
    "    return '<a target=\"_blank\" href=\"{}\">{}</a>'.format(val, val)\n",
    "results_df['url'] = results_df['url'].apply(make_clickable)\n",
    "\n",
    "pd.set_option('display.max_colwidth', None)\n",
    "display(HTML(results_df.loc[:, ['WPID', 'url']].to_html(escape=False)))"
   ]
  }
 ],
 "metadata": {
  "kernelspec": {
   "display_name": "Python 3 (ipykernel)",
   "language": "python",
   "name": "python3"
  },
  "language_info": {
   "codemirror_mode": {
    "name": "ipython",
    "version": 3
   },
   "file_extension": ".py",
   "mimetype": "text/x-python",
   "name": "python",
   "nbconvert_exporter": "python",
   "pygments_lexer": "ipython3",
   "version": "3.10.4"
  }
 },
 "nbformat": 4,
 "nbformat_minor": 5
}
