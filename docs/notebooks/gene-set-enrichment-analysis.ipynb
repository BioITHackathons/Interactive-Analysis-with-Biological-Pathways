{
 "cells": [
  {
   "cell_type": "code",
   "execution_count": null,
   "id": "04532e9b-f6fb-4b59-b162-19fce058748a",
   "metadata": {},
   "outputs": [],
   "source": [
    "# install libraries if you haven't\n",
    "# !pip install scanpy\n",
    "# !pip install pywikipathways\n",
    "# !pip install gseapy\n",
    "\n",
    "import scanpy as sc\n",
    "import pywikipathways as pwpw\n",
    "import gseapy as gp"
   ]
  },
  {
   "cell_type": "code",
   "execution_count": null,
   "id": "117ecbe5-596d-4274-8941-1e67518317bb",
   "metadata": {},
   "outputs": [],
   "source": [
    "# input list of genes (hardcoded for now)\n",
    "sle_genes = [ \"IFI44L\", \"CCL2\", \"MMP9\", \"RSAD2\", \"STAT1\", \"IRF7\", \"OAS1\", \"MX1\", \"CD3D\", \"IL2RB\", \"GZMK\", \"PRF1\", \"NKG7\"]\n",
    "\n",
    "# input enrichr gene_set parameter for gseapy enrichr tool\n",
    "enrichr_gene_set = \"WikiPathways_2024_Human\"\n",
    "\n",
    "# fetch pathways from wikipathways\n",
    "#######################################\n",
    "# def safe_fetch(gene):\n",
    "#     try:\n",
    "#         return pwpw.find_pathway_ids_by_xref(gene, 'H').to_list()\n",
    "#     except KeyError:\n",
    "#         return []\n",
    "#\n",
    "# pathway_ids = {gene: safe_fetch(gene) for gene in sle_genes}\n",
    "########################################\n",
    "\n",
    "# count number of genes in target set that appear in each pathway for Gene Set Enrichment Analysis (GSEA)\n",
    "################################\n",
    "def count_pathways(gene, pathway_count_dict):\n",
    "    try:\n",
    "        # fetch all pathways in wikipathways associated with given gene\n",
    "        pws = pwpw.find_pathway_ids_by_xref(gene, 'H').to_list()\n",
    "        \n",
    "        # add pathway to pathway_count_dict if not there already or increment value in pathway_count_dict\n",
    "        for pw in pws: \n",
    "            if not pathway_count_dict.get(pw):\n",
    "                pathway_count_dict[pw] = 1\n",
    "            else:\n",
    "                pathway_count_dict[pw]+=1\n",
    "    except KeyError:\n",
    "        pass\n",
    "\n",
    "# run count_pathways() to fetch data from wiki pathways and generate pathway count dictionary\n",
    "pathway_count_dict = {}\n",
    "for gene in sle_genes:\n",
    "    count_pathways(gene, pathway_count_dict)\n",
    "################################"
   ]
  },
  {
   "cell_type": "code",
   "execution_count": null,
   "id": "88246b55-021b-4a60-a2f4-72a168cdb4e0",
   "metadata": {},
   "outputs": [],
   "source": [
    "# sort and print pathway_count_dict\n",
    "sorted_pathway_count_dict = dict(sorted(pathway_count_dict.items(), key=lambda item: item[1], reverse=True))\n",
    "print(sorted_pathway_count_dict)"
   ]
  },
  {
   "cell_type": "code",
   "execution_count": null,
   "id": "c2d40889-64c4-4b69-a758-bfee0e109f7d",
   "metadata": {},
   "outputs": [],
   "source": [
    "# perform same GSEA Analysis but use the gseapy library\n",
    "enr_res = gp.enrichr(gene_list=sle_genes, gene_sets=enrichr_gene_set, organism='human')\n",
    "\n",
    "# show results of running gseapy.enrichr tool\n",
    "enr_res.results"
   ]
  }
 ],
 "metadata": {
  "kernelspec": {
   "display_name": "Python 3 (ipykernel)",
   "language": "python",
   "name": "python3"
  },
  "language_info": {
   "codemirror_mode": {
    "name": "ipython",
    "version": 3
   },
   "file_extension": ".py",
   "mimetype": "text/x-python",
   "name": "python",
   "nbconvert_exporter": "python",
   "pygments_lexer": "ipython3",
   "version": "3.10.4"
  }
 },
 "nbformat": 4,
 "nbformat_minor": 5
}
